{
 "cells": [
  {
   "cell_type": "code",
   "execution_count": 1,
   "metadata": {},
   "outputs": [
    {
     "name": "stdout",
     "output_type": "stream",
     "text": [
      "hellow, World!\n"
     ]
    }
   ],
   "source": [
    "def greet(username):\n",
    "    print(\"hellow, \" + username.title() + '!')\n",
    "greet('world')    "
   ]
  },
  {
   "cell_type": "code",
   "execution_count": 7,
   "metadata": {},
   "outputs": [
    {
     "name": "stdout",
     "output_type": "stream",
     "text": [
      "\n",
      "I have a hamster,\n",
      "my hamster's name is harry,\n"
     ]
    }
   ],
   "source": [
    "def describe_pet(animal_type, pet_name):\n",
    "    print(\"\\nI have a \" + animal_type +\",\")\n",
    "    print(\"my \" + animal_type + \"'s name is \" + pet_name + \",\")\n",
    "describe_pet('hamster', 'harry' )   "
   ]
  },
  {
   "cell_type": "code",
   "execution_count": 18,
   "metadata": {},
   "outputs": [],
   "source": [
    "\n",
    "def make_album(artist_name, album_title):\n",
    "    dic = {\"artist_name\":artist_name,\"album_title\":album_title}\n",
    "    return dic"
   ]
  },
  {
   "cell_type": "code",
   "execution_count": 20,
   "metadata": {},
   "outputs": [],
   "source": [
    "album1 = make_album('atif', 'lamhe')\n",
    "album2 = make_album('arjit', 'awargi')\n",
    "album3 = make_album('rahat', 'afreen')"
   ]
  },
  {
   "cell_type": "code",
   "execution_count": 21,
   "metadata": {},
   "outputs": [
    {
     "name": "stdout",
     "output_type": "stream",
     "text": [
      "{'artist_name': 'atif', 'album_title': 'lamhe'} {'artist_name': 'arjit', 'album_title': 'awargi'} {'artist_name': 'rahat', 'album_title': 'afreen'}\n"
     ]
    }
   ],
   "source": [
    "print(album1, album2, album3)"
   ]
  },
  {
   "cell_type": "code",
   "execution_count": 24,
   "metadata": {},
   "outputs": [],
   "source": [
    "def make_album(artist_name, album_title, num_tracks=''):\n",
    "    \n",
    "    dic = {\"artist_name\":artist_name,\"album_title\":album_title}\n",
    "    if num_tracks:\n",
    "        dic['num_tracks']=num_tracks\n",
    "    return dic"
   ]
  },
  {
   "cell_type": "code",
   "execution_count": 25,
   "metadata": {},
   "outputs": [],
   "source": [
    "album1 = make_album('atif', 'lamhe', 10)\n",
    "album2 = make_album('arjit', 'awargi', 12)\n",
    "album3 = make_album('rahat', 'afreen')"
   ]
  },
  {
   "cell_type": "code",
   "execution_count": 26,
   "metadata": {},
   "outputs": [
    {
     "name": "stdout",
     "output_type": "stream",
     "text": [
      "{'artist_name': 'atif', 'album_title': 'lamhe', 'num_tracks': 10}\n",
      "{'artist_name': 'arjit', 'album_title': 'awargi', 'num_tracks': 12}\n",
      "{'artist_name': 'rahat', 'album_title': 'afreen'}\n"
     ]
    }
   ],
   "source": [
    "print(album1)\n",
    "print(album2)\n",
    "print(album3)"
   ]
  },
  {
   "cell_type": "code",
   "execution_count": 30,
   "metadata": {},
   "outputs": [],
   "source": [
    "def make_album(artist_name, album_title):\n",
    "    dic = {\"artist_name\",\"album_title\"}\n",
    "    while(True):\n",
    "        artist_title=input(\"enter artist name or q for quit\")\n",
    "        dic['album_title']=artist_title\n",
    "        if artist_title== 'quit':\n",
    "            break\n",
    "        name=input('enter artist name')\n",
    "        dic['artist']\n",
    "    return dic   \n",
    "    "
   ]
  },
  {
   "cell_type": "code",
   "execution_count": 31,
   "metadata": {},
   "outputs": [
    {
     "ename": "TypeError",
     "evalue": "make_album() missing 2 required positional arguments: 'artist_name' and 'album_title'",
     "output_type": "error",
     "traceback": [
      "\u001b[1;31m---------------------------------------------------------------------------\u001b[0m",
      "\u001b[1;31mTypeError\u001b[0m                                 Traceback (most recent call last)",
      "\u001b[1;32m<ipython-input-31-9de2f86ffd2e>\u001b[0m in \u001b[0;36m<module>\u001b[1;34m\u001b[0m\n\u001b[1;32m----> 1\u001b[1;33m \u001b[0mmake_album\u001b[0m\u001b[1;33m(\u001b[0m\u001b[1;33m)\u001b[0m\u001b[1;33m\u001b[0m\u001b[1;33m\u001b[0m\u001b[0m\n\u001b[0m",
      "\u001b[1;31mTypeError\u001b[0m: make_album() missing 2 required positional arguments: 'artist_name' and 'album_title'"
     ]
    }
   ],
   "source": [
    "def make_album(artist_name, album_title, num_tracks=''):\n",
    "    \n",
    "    dic = {\"artist_name\":artist_name,\"album_title\":album_title}\n",
    "    if num_tracks:\n",
    "        dic['num_tracks']=num_tracks\n",
    "    return dic"
   ]
  },
  {
   "cell_type": "code",
   "execution_count": null,
   "metadata": {},
   "outputs": [],
   "source": []
  },
  {
   "cell_type": "markdown",
   "metadata": {},
   "source": [
    "# salery calculater"
   ]
  },
  {
   "cell_type": "code",
   "execution_count": 2,
   "metadata": {},
   "outputs": [
    {
     "name": "stdout",
     "output_type": "stream",
     "text": [
      "enter the basic salary of the employee500000\n",
      "the gross salary of employee is 400000.0\n",
      "the total tax ded 75000.0\n",
      "the total commision ded 25000.0\n"
     ]
    }
   ],
   "source": [
    "def commcalc():\n",
    "    com_ded = 0\n",
    "    if basic_salary<30000:\n",
    "        com_ded = 2\n",
    "    elif basic_salary>=30000 and basic_salary<50000:\n",
    "        com_ded = 3\n",
    "    elif basic_salary >=50000 and basic_salary <100000:\n",
    "        com_ded =4\n",
    "    else:\n",
    "        com_ded = 5\n",
    "    return com_ded  \n",
    "def taxcalc():\n",
    "    tax_ded = 0\n",
    "    if basic_salary<30000:\n",
    "        tax_ded = 0\n",
    "    elif basic_salary>=30000 and basic_salary<50000:\n",
    "        tax_ded = 5\n",
    "    elif basic_salary >=50000 and basic_salary <100000:\n",
    "        tax_ded =10\n",
    "    else:\n",
    "        tax_ded = 15\n",
    "    return tax_ded  \n",
    "def salarycalc(basic_salary):\n",
    "    tax_ded = taxcalc()\n",
    "    com_ded = commcalc()   \n",
    "    tot_ded = basic_salary* tax_ded/100\n",
    "    tot_com_ded =basic_salary* com_ded/100\n",
    "    gross_salary =basic_salary - tot_ded - tot_com_ded\n",
    "    return gross_salary,tot_ded,tot_com_ded\n",
    "\n",
    "basic_salary = int(input(\"enter the basic salary of the employee\"))\n",
    "grosssalary,tot_ded,tot_com_ded =salarycalc(basic_salary)\n",
    "print(f\"the gross salary of employee is {grosssalary}\")\n",
    "print (f\"the total tax ded {tot_ded}\")\n",
    "print (f\"the total commision ded {tot_com_ded}\")\n",
    "\n",
    "    "
   ]
  },
  {
   "cell_type": "code",
   "execution_count": null,
   "metadata": {},
   "outputs": [],
   "source": []
  },
  {
   "cell_type": "code",
   "execution_count": null,
   "metadata": {},
   "outputs": [],
   "source": []
  }
 ],
 "metadata": {
  "kernelspec": {
   "display_name": "Python 3",
   "language": "python",
   "name": "python3"
  },
  "language_info": {
   "codemirror_mode": {
    "name": "ipython",
    "version": 3
   },
   "file_extension": ".py",
   "mimetype": "text/x-python",
   "name": "python",
   "nbconvert_exporter": "python",
   "pygments_lexer": "ipython3",
   "version": "3.8.5"
  }
 },
 "nbformat": 4,
 "nbformat_minor": 4
}
